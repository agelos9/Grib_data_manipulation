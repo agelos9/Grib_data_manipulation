{
 "cells": [
  {
   "cell_type": "markdown",
   "id": "674e47bc-264e-49a5-8d8d-60772f4c27e7",
   "metadata": {},
   "source": [
    "# Set target LAT/LON"
   ]
  },
  {
   "cell_type": "code",
   "execution_count": 1,
   "id": "c3ac36c5-3c01-40f1-8bbf-41cee1e26b4f",
   "metadata": {},
   "outputs": [],
   "source": [
    "target_lon = 21.74\n",
    "target_lat = 36.9"
   ]
  },
  {
   "cell_type": "markdown",
   "id": "1fec42ef-efb0-4008-b5d7-7ae7fa185c12",
   "metadata": {},
   "source": [
    "# IMPORTS"
   ]
  },
  {
   "cell_type": "code",
   "execution_count": 20,
   "id": "ed0cfe4a-96b9-4bc3-bd68-6a935523846e",
   "metadata": {},
   "outputs": [],
   "source": [
    "import numpy as np\n",
    "import xarray as xr\n",
    "import pandas as pd\n",
    "\n",
    "import pygrib\n",
    "import matplotlib.pyplot as plt\n",
    "import matplotlib.colors as colors"
   ]
  },
  {
   "cell_type": "markdown",
   "id": "87b5c62c-9b53-40c2-aba9-5a9f997067e6",
   "metadata": {},
   "source": [
    "# Load DATA in xarray and print variable"
   ]
  },
  {
   "cell_type": "code",
   "execution_count": 8,
   "id": "cb02484d-dd15-4195-81ca-ffaaf422b749",
   "metadata": {},
   "outputs": [],
   "source": [
    "grib = 'C:/Users/aggelosuser/Desktop/93fdfdf2-11e1-4084-b25e-10b95856678b.grib'"
   ]
  },
  {
   "cell_type": "code",
   "execution_count": 9,
   "id": "9024e72e-fe3b-439c-884b-d755c5c84f5a",
   "metadata": {},
   "outputs": [],
   "source": [
    "ds = xr.open_dataset(grib, engine=\"cfgrib\")"
   ]
  },
  {
   "cell_type": "code",
   "execution_count": 10,
   "id": "17cbb775-b4c7-4fdf-afd1-170a8d60f6e1",
   "metadata": {},
   "outputs": [
    {
     "name": "stdout",
     "output_type": "stream",
     "text": [
      "t2m, 2 metre temperature, K\n"
     ]
    }
   ],
   "source": [
    "for v in ds:\n",
    "    print(\"{}, {}, {}\".format(v, ds[v].attrs[\"long_name\"], ds[v].attrs[\"units\"]))"
   ]
  },
  {
   "cell_type": "markdown",
   "id": "43baab49-37bc-4d67-9716-2821d0b5e1b6",
   "metadata": {},
   "source": [
    "# Generate series with necessary timestamps"
   ]
  },
  {
   "cell_type": "code",
   "execution_count": 50,
   "id": "c1ee19a3-cbf9-4916-b797-cd45fd1cf985",
   "metadata": {},
   "outputs": [],
   "source": [
    "def generate_timestamps(start_timestamp, num_steps):\n",
    "    timestamps = []\n",
    "    current_timestamp = start_timestamp\n",
    "    for _ in range(num_steps):\n",
    "        timestamps.append(current_timestamp)\n",
    "        current_timestamp += np.timedelta64(1, 'h')\n",
    "    return timestamps\n",
    "\n",
    "start_timestamp = ds.time.values\n",
    "num_steps = 49\n",
    "timestamps = generate_timestamps(start_timestamp, num_steps)\n",
    "\n",
    "#for ts in timestamps:\n",
    "#   print(ts)"
   ]
  },
  {
   "cell_type": "markdown",
   "id": "bec9a50e-6dcf-44f7-8c6c-ce742ac63254",
   "metadata": {},
   "source": [
    "# Load first timestep of Data with pygrib and perform regriding LAT/LON convertions"
   ]
  },
  {
   "cell_type": "code",
   "execution_count": 13,
   "id": "3506bed9-d6d9-47bd-9d98-e8abd59722be",
   "metadata": {},
   "outputs": [],
   "source": [
    "grbs = pygrib.open(grib)\n",
    " \n",
    "grb = grbs.select()[0]\n",
    "\n",
    "data = grb.values"
   ]
  },
  {
   "cell_type": "code",
   "execution_count": 14,
   "id": "eef132b4-c0c8-49b2-b7f9-82374e53c38e",
   "metadata": {},
   "outputs": [],
   "source": [
    "lat, lon = grb.latlons() "
   ]
  },
  {
   "cell_type": "code",
   "execution_count": 15,
   "id": "d4bfd910-9fff-499c-aebe-5a15fed3d180",
   "metadata": {},
   "outputs": [
    {
     "name": "stdout",
     "output_type": "stream",
     "text": [
      "[0.00000000e+00 3.51562554e-02 7.03125108e-02 ... 3.59894586e+02\n",
      " 3.59929743e+02 3.59964899e+02]\n"
     ]
    }
   ],
   "source": [
    "values = []\n",
    "for longit in lon:\n",
    "    print(longit)\n",
    "    values.append(longit[0])\n",
    "    break"
   ]
  },
  {
   "cell_type": "code",
   "execution_count": 16,
   "id": "024f4108-491e-45b9-af66-e30f2b8d6371",
   "metadata": {},
   "outputs": [],
   "source": [
    "latitudes = np.unique(lat.flatten())\n",
    "longitudes = lon[0]"
   ]
  },
  {
   "cell_type": "markdown",
   "id": "773ade34-b3cd-4e02-99d7-96800d51ac00",
   "metadata": {},
   "source": [
    "# Load the rest timesteps and convert them accordingly"
   ]
  },
  {
   "cell_type": "code",
   "execution_count": 17,
   "id": "d2d13f8b-cc10-440f-84f7-7ee14dc4cc16",
   "metadata": {},
   "outputs": [],
   "source": [
    "target_data = []\n",
    "\n",
    "for timestamp in range(49):  # 0 to 48\n",
    "    try:\n",
    "        grb_steps = grbs.select()[timestamp]  # Select the record corresponding to the timestamp\n",
    "        data_steps = grb_steps.values\n",
    "\n",
    "        ds0 = xr.Dataset(\n",
    "            data_vars={\"ice\": ([\"latitude\", \"longitude\"], data_steps)},\n",
    "            coords={\n",
    "                \"latitude\": latitudes,\n",
    "                \"longitude\": longitudes,\n",
    "            },\n",
    "        )\n",
    "        \n",
    "        target_pixel = ds0.sel(longitude=target_lon, latitude=target_lat, method='nearest')\n",
    "        target_pixel = target_pixel.ice.values\n",
    "        target_data.append(target_pixel)\n",
    "    except IndexError:\n",
    "        print(f\"No record found for timestamp {timestamp}\")\n",
    "    except Exception as e:\n",
    "        print(f\"Error processing timestamp {timestamp}: {e}\")\n",
    "\n",
    "# Close the GRIB file\n",
    "grbs.close()"
   ]
  },
  {
   "cell_type": "markdown",
   "id": "e37d489d-185c-40b6-9199-df7395797eee",
   "metadata": {},
   "source": [
    "# Create target DataFrame and plot it"
   ]
  },
  {
   "cell_type": "code",
   "execution_count": 58,
   "id": "7a40c902-1c95-4e76-bd53-0b69aa43db98",
   "metadata": {},
   "outputs": [],
   "source": [
    "target_df = pd.DataFrame()"
   ]
  },
  {
   "cell_type": "code",
   "execution_count": 62,
   "id": "c8945680-5198-4d1e-8174-93ee4df29c28",
   "metadata": {},
   "outputs": [],
   "source": [
    "target_df['var'] = pd.to_numeric(target_data, errors='coerce')"
   ]
  },
  {
   "cell_type": "code",
   "execution_count": 63,
   "id": "31393b97-bec8-418e-852b-2df905f256dd",
   "metadata": {},
   "outputs": [],
   "source": [
    "target_df.set_index(np.array(timestamps), inplace=True)"
   ]
  },
  {
   "cell_type": "code",
   "execution_count": 71,
   "id": "aecfb04d-7404-4fbb-8582-4cfafc4ab50e",
   "metadata": {},
   "outputs": [],
   "source": [
    "#target_df"
   ]
  },
  {
   "cell_type": "code",
   "execution_count": 74,
   "id": "ff34f0a1-98e1-4038-9680-c8fd618fbf0e",
   "metadata": {},
   "outputs": [
    {
     "data": {
      "image/png": "[encoded data removed]",
      "text/plain": [
       "<Figure size 640x480 with 1 Axes>"
      ]
     },
     "metadata": {},
     "output_type": "display_data"
    }
   ],
   "source": [
    "fig = plt.figure()\n",
    "ax = fig.add_subplot(111)\n",
    "\n",
    "ax.plot(target_df.index, target_df[\"var\"])\n",
    "plt.show()"
   ]
  },
  {
   "cell_type": "code",
   "execution_count": 54,
   "id": "5d27e47c-49e3-4bb5-b2a1-19f3668f4939",
   "metadata": {},
   "outputs": [],
   "source": [
    "#target_lon = 21.74\n",
    "#target_lat = 36.9\n",
    "\n",
    "#kynhgos = ds0.sel(latitude = slice(target_lat-0.01, target_lat+0.05), longitude = slice(target_lon-0.05, target_lon))\n",
    "kynhgos = ds0.sel(longitude=target_lon, latitude=target_laty, method='nearest')"
   ]
  },
  {
   "cell_type": "code",
   "execution_count": 59,
   "id": "a4af1db9-07d2-47af-b287-f40e45463725",
   "metadata": {},
   "outputs": [
    {
     "data": {
      "text/plain": [
       "array(292.70577753)"
      ]
     },
     "execution_count": 59,
     "metadata": {},
     "output_type": "execute_result"
    }
   ],
   "source": [
    "kynhgos.ice.values"
   ]
  },
  {
   "cell_type": "code",
   "execution_count": null,
   "id": "5961fe9a-26aa-4d9d-8501-89f3d8b9da9d",
   "metadata": {},
   "outputs": [],
   "source": []
  }
 ],
 "metadata": {
  "kernelspec": {
   "display_name": "Python 3 (ipykernel)",
   "language": "python",
   "name": "python3"
  },
  "language_info": {
   "codemirror_mode": {
    "name": "ipython",
    "version": 3
   },
   "file_extension": ".py",
   "mimetype": "text/x-python",
   "name": "python",
   "nbconvert_exporter": "python",
   "pygments_lexer": "ipython3",
   "version": "3.9.18"
  }
 },
 "nbformat": 4,
 "nbformat_minor": 5
}
